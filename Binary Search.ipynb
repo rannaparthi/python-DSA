{
 "cells": [
  {
   "cell_type": "code",
   "outputs": [],
   "source": [
    "# Binary Tree\n",
    "\n",
    "# Problem: Create an efficient in-memory data structure that can \n",
    "# insert update search list 100 million users \n",
    "\n",
    "# User Class \n",
    "\n",
    "class User:\n",
    "    def __init__(self,username, name, email):\n",
    "        self.username = username\n",
    "        self.name = name\n",
    "        self.email = email\n",
    "        print('User Created')\n",
    " "
   ],
   "metadata": {
    "collapsed": false
   },
   "id": "15fb5e96a99e68a3"
  },
  {
   "cell_type": "markdown",
   "source": [],
   "metadata": {
    "collapsed": false
   },
   "id": "50b119baa34c0453"
  },
  {
   "cell_type": "markdown",
   "source": [],
   "metadata": {
    "collapsed": false
   },
   "id": "a28f6aa059c756fd"
  },
  {
   "cell_type": "code",
   "outputs": [
    {
     "name": "stdout",
     "output_type": "stream",
     "text": [
      "5800\n"
     ]
    }
   ],
   "source": [],
   "metadata": {
    "collapsed": false,
    "ExecuteTime": {
     "end_time": "2024-05-02T23:08:12.988161Z",
     "start_time": "2024-05-02T23:08:12.983790Z"
    }
   },
   "id": "1fe3456be68c481e",
   "execution_count": 1
  },
  {
   "cell_type": "code",
   "outputs": [],
   "source": [
    "# example Binary tree\n",
    "\n",
    "class Node:\n",
    "    def __init__(self,key):\n",
    "        self.key = key\n",
    "        self.left = None\n",
    "        self.right = None\n",
    "\n"
   ],
   "metadata": {
    "collapsed": false,
    "ExecuteTime": {
     "end_time": "2024-05-03T00:52:34.206543Z",
     "start_time": "2024-05-03T00:52:34.166725Z"
    }
   },
   "id": "ffd4a80d5f874b3",
   "execution_count": 2
  },
  {
   "cell_type": "code",
   "outputs": [
    {
     "name": "stdout",
     "output_type": "stream",
     "text": [
      "<__main__.Node object at 0x106f77f70>\n"
     ]
    }
   ],
   "source": [
    "def parse_tuple(data):\n",
    "    if isinstance(data,tuple) and len(data)==3:\n",
    "        node = Node(data[1])\n",
    "        node.left = parse_tuple(data[0])\n",
    "        node.right = parse_tuple(data[2])\n",
    "    elif data is None:\n",
    "        node = None\n",
    "    else:\n",
    "        node = Node(data)\n",
    "    return node\n",
    "\n",
    "data = ((1,2,3),5,(6,7,8))\n",
    "\n",
    "print(parse_tuple(data))\n",
    "        "
   ],
   "metadata": {
    "collapsed": false,
    "ExecuteTime": {
     "end_time": "2024-05-03T01:00:09.088744Z",
     "start_time": "2024-05-03T01:00:09.070251Z"
    }
   },
   "id": "d7f8c551bf642e3a",
   "execution_count": 10
  },
  {
   "cell_type": "code",
   "outputs": [],
   "source": [
    "tree = parse_tuple(data)"
   ],
   "metadata": {
    "collapsed": false,
    "ExecuteTime": {
     "end_time": "2024-05-03T01:00:43.485966Z",
     "start_time": "2024-05-03T01:00:43.466768Z"
    }
   },
   "id": "361624167c952375",
   "execution_count": 12
  },
  {
   "cell_type": "code",
   "outputs": [],
   "source": [
    "def tree_height(t):\n",
    "    if t is None:\n",
    "        return 0\n",
    "    return 1 + max(tree_height(t.left),tree_height(t.right))"
   ],
   "metadata": {
    "collapsed": false,
    "ExecuteTime": {
     "end_time": "2024-05-03T02:02:47.583074Z",
     "start_time": "2024-05-03T02:02:47.570032Z"
    }
   },
   "id": "c26ae929fa4f98b",
   "execution_count": 20
  },
  {
   "cell_type": "code",
   "outputs": [
    {
     "data": {
      "text/plain": "3"
     },
     "execution_count": 21,
     "metadata": {},
     "output_type": "execute_result"
    }
   ],
   "source": [
    "tree_height(tree)"
   ],
   "metadata": {
    "collapsed": false,
    "ExecuteTime": {
     "end_time": "2024-05-03T02:02:48.451583Z",
     "start_time": "2024-05-03T02:02:48.443916Z"
    }
   },
   "id": "5b8fde9fd14f188e",
   "execution_count": 21
  },
  {
   "cell_type": "code",
   "outputs": [
    {
     "name": "stdout",
     "output_type": "stream",
     "text": [
      "7\n"
     ]
    }
   ],
   "source": [
    "def tree_size(t):\n",
    "    if t is None:\n",
    "        return 0\n",
    "    return 1 + tree_size(t.left) + tree_size(t.right)\n",
    "\n",
    "print(tree_size(tree))"
   ],
   "metadata": {
    "collapsed": false,
    "ExecuteTime": {
     "end_time": "2024-05-03T02:07:00.295878Z",
     "start_time": "2024-05-03T02:07:00.284283Z"
    }
   },
   "id": "c6bc78b743dc3264",
   "execution_count": 22
  }
 ],
 "metadata": {
  "kernelspec": {
   "display_name": "Python 3",
   "language": "python",
   "name": "python3"
  },
  "language_info": {
   "codemirror_mode": {
    "name": "ipython",
    "version": 2
   },
   "file_extension": ".py",
   "mimetype": "text/x-python",
   "name": "python",
   "nbconvert_exporter": "python",
   "pygments_lexer": "ipython2",
   "version": "2.7.6"
  }
 },
 "nbformat": 4,
 "nbformat_minor": 5
}

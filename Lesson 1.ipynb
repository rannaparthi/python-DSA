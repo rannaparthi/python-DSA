{
 "cells": [
  {
   "cell_type": "code",
   "outputs": [
    {
     "name": "stdout",
     "output_type": "stream",
     "text": [
      "3\n"
     ]
    }
   ],
   "source": [
    "# Binary Search \n",
    "\n",
    "def binary_search(l:list, x:int) -> int:\n",
    "    low = 0\n",
    "    high = len(l)-1\n",
    "    while low <= high:\n",
    "        mid = (high + low) // 2\n",
    "        if l[mid] == x:\n",
    "            return mid\n",
    "        elif x > l[mid]:\n",
    "            low = mid + 1\n",
    "        else:\n",
    "            high = mid - 1\n",
    "    return -1\n",
    "\n",
    "print(binary_search([1,2,3,4,5],4))"
   ],
   "metadata": {
    "collapsed": false,
    "ExecuteTime": {
     "end_time": "2024-05-02T19:09:32.869946Z",
     "start_time": "2024-05-02T19:09:32.863735Z"
    }
   },
   "id": "c9d9867f3a436c49",
   "execution_count": 38
  },
  {
   "cell_type": "code",
   "outputs": [
    {
     "name": "stdout",
     "output_type": "stream",
     "text": [
      "3\n"
     ]
    }
   ],
   "source": [
    "# find minimum number of times a sorted list was rotated\n",
    "\n",
    "arr = [8,9,10,0,1,2,3,4,5,6,7] #roated list \n",
    "\n",
    "# [8,9,10,0,1,2,3,4,5,6,7]\n",
    "\n",
    "def find_rotations(nums:list):\n",
    "    low = 0 \n",
    "    high = len(nums)-1\n",
    "\n",
    "    while low < high:\n",
    "        mid = (low+high) // 2\n",
    "        if nums[mid] > nums[high]:\n",
    "            low = mid + 1\n",
    "        elif nums[mid] < nums[high]:\n",
    "            high = mid\n",
    "        else:\n",
    "            high -= 1\n",
    "    return high\n",
    "\n",
    "print(find_rotations(arr))"
   ],
   "metadata": {
    "collapsed": false,
    "ExecuteTime": {
     "end_time": "2024-05-02T22:30:35.204645Z",
     "start_time": "2024-05-02T22:30:35.133226Z"
    }
   },
   "id": "7b8f11f8386e61fe",
   "execution_count": 50
  },
  {
   "cell_type": "code",
   "outputs": [],
   "source": [
    "# search in a rotated array\n",
    "\n",
    "def binary_search_rotated(l:list, x:int) -> int:\n",
    "    "
   ],
   "metadata": {
    "collapsed": false
   },
   "id": "b657003d09cac046"
  }
 ],
 "metadata": {
  "kernelspec": {
   "display_name": "Python 3",
   "language": "python",
   "name": "python3"
  },
  "language_info": {
   "codemirror_mode": {
    "name": "ipython",
    "version": 2
   },
   "file_extension": ".py",
   "mimetype": "text/x-python",
   "name": "python",
   "nbconvert_exporter": "python",
   "pygments_lexer": "ipython2",
   "version": "2.7.6"
  }
 },
 "nbformat": 4,
 "nbformat_minor": 5
}
